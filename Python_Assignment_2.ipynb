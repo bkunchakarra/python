{
 "cells": [
  {
   "cell_type": "markdown",
   "metadata": {},
   "source": [
    "## Python Assignment 2"
   ]
  },
  {
   "cell_type": "code",
   "execution_count": 1,
   "metadata": {},
   "outputs": [],
   "source": [
    "### 1. What are the two values of the Boolean data type? How do you write them?\n",
    "\n",
    "###Solution: Boolean Type : bool\n",
    "### True or False"
   ]
  },
  {
   "cell_type": "code",
   "execution_count": null,
   "metadata": {},
   "outputs": [],
   "source": [
    "### 2. What are the three different types of Boolean operators?\n",
    "\n",
    "### Solution\n",
    "### AND (&&) \n",
    "### OR || \n",
    "### NOT not"
   ]
  },
  {
   "cell_type": "code",
   "execution_count": null,
   "metadata": {},
   "outputs": [],
   "source": [
    "### 3. Make a list of each Boolean operator's truth tables \n",
    "###    (i.e. every possible combination of Boolean values for the operator and what it evaluate ).\n",
    "\n",
    "### Solution\n",
    "\n",
    "### AND Operator\n",
    "\n",
    "### True and True = True\n",
    "### True and False = False\n",
    "### False and True = False\n",
    "### False and False = False\n",
    "\n",
    "### OR Operator\n",
    "\n",
    "### True or True = True\n",
    "### True or False = True\n",
    "### False or True = True\n",
    "### False or False = False\n",
    "\n",
    "### Not Operator\n",
    "### not(True) = False\n",
    "### not(False) = True"
   ]
  },
  {
   "cell_type": "code",
   "execution_count": 8,
   "metadata": {},
   "outputs": [
    {
     "data": {
      "text/plain": [
       "True"
      ]
     },
     "execution_count": 8,
     "metadata": {},
     "output_type": "execute_result"
    }
   ],
   "source": [
    "### 4. What are the values of the following expressions?\n",
    "\n",
    "### Solution\n",
    "### (5 > 4) and (3 == 5) : False\n",
    "### not (5 > 4) : False\n",
    "### (5 > 4) or (3 == 5) : True\n",
    "### not ((5 > 4) or (3 == 5)) : False\n",
    "### (True and True) and (True == False) : False\n",
    "### (not False) or (not True) : True"
   ]
  },
  {
   "cell_type": "code",
   "execution_count": null,
   "metadata": {},
   "outputs": [],
   "source": [
    "### 5. What are the six comparison operators?\n",
    "\n",
    "### Solution\n",
    "\n",
    "### == Equal x == y\n",
    "### != Not equal x != y \n",
    "### > Greater than x > y \n",
    "### < Less than x < y \n",
    "### >= Greater than or equal to x >= y \n",
    "### <= Less than or equal to x <= y\n",
    "\n",
    "\n"
   ]
  },
  {
   "cell_type": "code",
   "execution_count": null,
   "metadata": {},
   "outputs": [],
   "source": [
    "### 6. How do you tell the difference between the equal to and assignment operators?\n",
    "###    Describe a condition and when you would use one.\n",
    "\n",
    "### Solution\n",
    "### Equal to is '==' Example : A == B\n",
    "### Assignment Operator (=, +=, -=, ....) Example : Assiging X = 100\n"
   ]
  },
  {
   "cell_type": "code",
   "execution_count": 10,
   "metadata": {},
   "outputs": [],
   "source": [
    "### 7. Identify the three blocks in this code:\n",
    "### spam = 0\n",
    "### if spam == 10:\n",
    "### print('eggs')\n",
    "### if spam > 5:\n",
    "### print('bacon')\n",
    "### else:\n",
    "### print('ham')\n",
    "### print('spam')\n",
    "### print('spam')\n",
    "\n",
    "## The Question is not clear but trying to answer\n",
    "### Solution : if Block, If Block and Else Block "
   ]
  },
  {
   "cell_type": "code",
   "execution_count": 20,
   "metadata": {},
   "outputs": [
    {
     "name": "stdout",
     "output_type": "stream",
     "text": [
      "Greetings!\n"
     ]
    }
   ],
   "source": [
    "### 8. Write code that  \n",
    "###    prints Hello if 1 is stored in spam,\n",
    "###    prints Howdy if 2 is stored in spam,  \n",
    "###    and prints Greetings! if anything else is stored in spam.\n",
    "\n",
    "### Solution\n",
    "\n",
    "spam = 0\n",
    "if spam == 1:\n",
    "    print('Hello')\n",
    "elif spam == 2:\n",
    "    print('Howdy')\n",
    "else:\n",
    "    print('Greetings!')\n"
   ]
  },
  {
   "cell_type": "code",
   "execution_count": null,
   "metadata": {},
   "outputs": [],
   "source": [
    "### 9. If your programme is stuck in an endless loop, what keys you’ll press?\n",
    "\n",
    "### Solution:\n",
    "\n",
    "### We can use Break statement"
   ]
  },
  {
   "cell_type": "code",
   "execution_count": 21,
   "metadata": {},
   "outputs": [],
   "source": [
    "### 10. How can you tell the difference between break and continue?\n",
    "\n",
    "### Solution\n",
    "\n",
    "### Both these are used in WHILE Loop\n",
    "### Continue : will skip the iteration in a loop\n",
    "### Break : This will stops the loop"
   ]
  },
  {
   "cell_type": "code",
   "execution_count": 25,
   "metadata": {},
   "outputs": [
    {
     "name": "stdout",
     "output_type": "stream",
     "text": [
      "0\n",
      "1\n",
      "2\n",
      "3\n",
      "4\n",
      "5\n",
      "6\n",
      "7\n",
      "8\n",
      "9\n"
     ]
    }
   ],
   "source": [
    "### 11. In a for loop, what is the difference between range(10), range(0, 10), and range(0, 10, 1)?\n",
    "\n",
    "### Solution : syntax: range (start, stop, step)\n",
    "### range(10)\n",
    "### range(0, 10)\n",
    "### range(0, 10, 1)\n",
    "\n",
    "x = range(0,10,1)\n",
    "\n",
    "for n in x:\n",
    "  print(n)\n",
    "\n",
    "### it brings the same values"
   ]
  },
  {
   "cell_type": "code",
   "execution_count": 31,
   "metadata": {},
   "outputs": [
    {
     "name": "stdout",
     "output_type": "stream",
     "text": [
      "1\n",
      "2\n",
      "3\n",
      "4\n",
      "5\n",
      "6\n",
      "7\n",
      "8\n",
      "9\n",
      "1\n",
      "2\n",
      "3\n",
      "4\n",
      "5\n",
      "6\n",
      "7\n",
      "8\n",
      "9\n",
      "10\n"
     ]
    }
   ],
   "source": [
    "### 12. Write a short program that prints the numbers 1 to 10 using a for loop.\n",
    "###     Then write an equivalent program that prints the numbers 1 to 10 using a while loop.\n",
    "\n",
    "### Solution \n",
    "\n",
    "### For Loop:\n",
    "\n",
    "for x in range(1,10):\n",
    "    print(x)\n",
    "    \n",
    "### While Loop\n",
    "\n",
    "x = 1\n",
    "while x < 11:\n",
    "  print(x)\n",
    "  x += 1"
   ]
  },
  {
   "cell_type": "code",
   "execution_count": null,
   "metadata": {},
   "outputs": [],
   "source": [
    "### 13. If you had a function named bacon() inside a module named spam, \n",
    "###     how would you call it after importing spam?\n",
    "\n",
    "### Solution\n",
    "### import spam\n",
    "### spam.bacon()"
   ]
  },
  {
   "cell_type": "code",
   "execution_count": null,
   "metadata": {},
   "outputs": [],
   "source": []
  }
 ],
 "metadata": {
  "kernelspec": {
   "display_name": "Python 3",
   "language": "python",
   "name": "python3"
  },
  "language_info": {
   "codemirror_mode": {
    "name": "ipython",
    "version": 3
   },
   "file_extension": ".py",
   "mimetype": "text/x-python",
   "name": "python",
   "nbconvert_exporter": "python",
   "pygments_lexer": "ipython3",
   "version": "3.8.3"
  }
 },
 "nbformat": 4,
 "nbformat_minor": 4
}
